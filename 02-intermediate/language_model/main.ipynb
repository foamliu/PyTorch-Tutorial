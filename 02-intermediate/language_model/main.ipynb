{
 "cells": [
  {
   "cell_type": "code",
   "execution_count": 1,
   "metadata": {},
   "outputs": [],
   "source": [
    "# Some part of the code was referenced from below.\n",
    "# https://github.com/pytorch/examples/tree/master/word_language_model \n",
    "import torch\n",
    "import torch.nn as nn\n",
    "import numpy as np\n",
    "from torch.nn.utils import clip_grad_norm\n",
    "from data_utils import Dictionary, Corpus\n"
   ]
  },
  {
   "cell_type": "code",
   "execution_count": 2,
   "metadata": {},
   "outputs": [],
   "source": [
    "# Device configuration\n",
    "device = torch.device('cuda' if torch.cuda.is_available() else 'cpu')\n",
    "\n",
    "# Hyper-parameters\n",
    "embed_size = 128\n",
    "hidden_size = 1024\n",
    "num_layers = 1\n",
    "num_epochs = 5\n",
    "num_samples = 1000     # number of words to be sampled\n",
    "batch_size = 20\n",
    "seq_length = 30\n",
    "learning_rate = 0.002"
   ]
  },
  {
   "cell_type": "code",
   "execution_count": 3,
   "metadata": {},
   "outputs": [],
   "source": [
    "# Load \"Penn Treebank\" dataset\n",
    "corpus = Corpus()\n",
    "ids = corpus.get_data('data/train.txt', batch_size)\n",
    "vocab_size = len(corpus.dictionary)\n",
    "num_batches = ids.size(1) // seq_length"
   ]
  },
  {
   "cell_type": "code",
   "execution_count": 4,
   "metadata": {},
   "outputs": [],
   "source": [
    "# RNN based language model\n",
    "class RNNLM(nn.Module):\n",
    "    def __init__(self, vocab_size, embed_size, hidden_size, num_layers):\n",
    "        super(RNNLM, self).__init__()\n",
    "        self.embed = nn.Embedding(vocab_size, embed_size)\n",
    "        self.lstm = nn.LSTM(embed_size, hidden_size, num_layers, batch_first=True)\n",
    "        self.linear = nn.Linear(hidden_size, vocab_size)\n",
    "        \n",
    "    def forward(self, x, h):\n",
    "        # Embed word ids to vectors\n",
    "        x = self.embed(x)\n",
    "        \n",
    "        # Forward propagate LSTM\n",
    "        out, (h, c) = self.lstm(x, h)\n",
    "        \n",
    "        # Reshape output to (batch_size*sequence_length, hidden_size)\n",
    "        out = out.reshape(out.size(0)*out.size(1), out.size(2))\n",
    "        \n",
    "        # Decode hidden states of all time steps\n",
    "        out = self.linear(out)\n",
    "        return out, (h, c)\n",
    "\n",
    "model = RNNLM(vocab_size, embed_size, hidden_size, num_layers).to(device)"
   ]
  },
  {
   "cell_type": "code",
   "execution_count": 5,
   "metadata": {},
   "outputs": [],
   "source": [
    "# Loss and optimizer\n",
    "criterion = nn.CrossEntropyLoss()\n",
    "optimizer = torch.optim.Adam(model.parameters(), lr=learning_rate)\n",
    "\n",
    "# Truncated backpropagation\n",
    "def detach(states):\n",
    "    return [state.detach() for state in states] \n"
   ]
  },
  {
   "cell_type": "code",
   "execution_count": 6,
   "metadata": {},
   "outputs": [
    {
     "name": "stderr",
     "output_type": "stream",
     "text": [
      "c:\\users\\foamliu.fareast\\appdata\\local\\programs\\python\\python35\\lib\\site-packages\\ipykernel_launcher.py:20: UserWarning: torch.nn.utils.clip_grad_norm is now deprecated in favor of torch.nn.utils.clip_grad_norm_.\n"
     ]
    },
    {
     "name": "stdout",
     "output_type": "stream",
     "text": [
      "Epoch [1/5], Step[0/1549], Loss: 9.2156, Perplexity: 10052.40\n",
      "Epoch [1/5], Step[100/1549], Loss: 6.0254, Perplexity: 413.80\n",
      "Epoch [1/5], Step[200/1549], Loss: 5.9422, Perplexity: 380.75\n",
      "Epoch [1/5], Step[300/1549], Loss: 5.7800, Perplexity: 323.76\n",
      "Epoch [1/5], Step[400/1549], Loss: 5.6803, Perplexity: 293.05\n",
      "Epoch [1/5], Step[500/1549], Loss: 5.1219, Perplexity: 167.66\n",
      "Epoch [1/5], Step[600/1549], Loss: 5.1618, Perplexity: 174.48\n",
      "Epoch [1/5], Step[700/1549], Loss: 5.3686, Perplexity: 214.56\n",
      "Epoch [1/5], Step[800/1549], Loss: 5.2041, Perplexity: 182.01\n",
      "Epoch [1/5], Step[900/1549], Loss: 5.0726, Perplexity: 159.59\n",
      "Epoch [1/5], Step[1000/1549], Loss: 5.0570, Perplexity: 157.12\n",
      "Epoch [1/5], Step[1100/1549], Loss: 5.3400, Perplexity: 208.50\n",
      "Epoch [1/5], Step[1200/1549], Loss: 5.2296, Perplexity: 186.72\n",
      "Epoch [1/5], Step[1300/1549], Loss: 5.0632, Perplexity: 158.10\n",
      "Epoch [1/5], Step[1400/1549], Loss: 4.8085, Perplexity: 122.54\n",
      "Epoch [1/5], Step[1500/1549], Loss: 5.1576, Perplexity: 173.74\n",
      "Epoch [2/5], Step[0/1549], Loss: 5.4372, Perplexity: 229.80\n",
      "Epoch [2/5], Step[100/1549], Loss: 4.5502, Perplexity: 94.65\n",
      "Epoch [2/5], Step[200/1549], Loss: 4.6631, Perplexity: 105.96\n",
      "Epoch [2/5], Step[300/1549], Loss: 4.6609, Perplexity: 105.73\n",
      "Epoch [2/5], Step[400/1549], Loss: 4.5148, Perplexity: 91.36\n",
      "Epoch [2/5], Step[500/1549], Loss: 4.1233, Perplexity: 61.76\n",
      "Epoch [2/5], Step[600/1549], Loss: 4.4156, Perplexity: 82.73\n",
      "Epoch [2/5], Step[700/1549], Loss: 4.3942, Perplexity: 80.98\n",
      "Epoch [2/5], Step[800/1549], Loss: 4.4649, Perplexity: 86.91\n",
      "Epoch [2/5], Step[900/1549], Loss: 4.1979, Perplexity: 66.55\n",
      "Epoch [2/5], Step[1000/1549], Loss: 4.2642, Perplexity: 71.11\n",
      "Epoch [2/5], Step[1100/1549], Loss: 4.5248, Perplexity: 92.27\n",
      "Epoch [2/5], Step[1200/1549], Loss: 4.5328, Perplexity: 93.02\n",
      "Epoch [2/5], Step[1300/1549], Loss: 4.2199, Perplexity: 68.03\n",
      "Epoch [2/5], Step[1400/1549], Loss: 3.9372, Perplexity: 51.28\n",
      "Epoch [2/5], Step[1500/1549], Loss: 4.3442, Perplexity: 77.03\n",
      "Epoch [3/5], Step[0/1549], Loss: 6.0466, Perplexity: 422.68\n",
      "Epoch [3/5], Step[100/1549], Loss: 3.9046, Perplexity: 49.63\n",
      "Epoch [3/5], Step[200/1549], Loss: 4.0054, Perplexity: 54.90\n",
      "Epoch [3/5], Step[300/1549], Loss: 3.9215, Perplexity: 50.47\n",
      "Epoch [3/5], Step[400/1549], Loss: 3.8268, Perplexity: 45.91\n",
      "Epoch [3/5], Step[500/1549], Loss: 3.4031, Perplexity: 30.06\n",
      "Epoch [3/5], Step[600/1549], Loss: 3.8300, Perplexity: 46.06\n",
      "Epoch [3/5], Step[700/1549], Loss: 3.7426, Perplexity: 42.21\n",
      "Epoch [3/5], Step[800/1549], Loss: 3.8671, Perplexity: 47.80\n",
      "Epoch [3/5], Step[900/1549], Loss: 3.5239, Perplexity: 33.92\n",
      "Epoch [3/5], Step[1000/1549], Loss: 3.5958, Perplexity: 36.45\n",
      "Epoch [3/5], Step[1100/1549], Loss: 3.7604, Perplexity: 42.97\n",
      "Epoch [3/5], Step[1200/1549], Loss: 3.8789, Perplexity: 48.37\n",
      "Epoch [3/5], Step[1300/1549], Loss: 3.5371, Perplexity: 34.37\n",
      "Epoch [3/5], Step[1400/1549], Loss: 3.2040, Perplexity: 24.63\n",
      "Epoch [3/5], Step[1500/1549], Loss: 3.6283, Perplexity: 37.65\n",
      "Epoch [4/5], Step[0/1549], Loss: 4.6463, Perplexity: 104.19\n",
      "Epoch [4/5], Step[100/1549], Loss: 3.3211, Perplexity: 27.69\n",
      "Epoch [4/5], Step[200/1549], Loss: 3.4837, Perplexity: 32.58\n",
      "Epoch [4/5], Step[300/1549], Loss: 3.4040, Perplexity: 30.08\n",
      "Epoch [4/5], Step[400/1549], Loss: 3.3188, Perplexity: 27.63\n",
      "Epoch [4/5], Step[500/1549], Loss: 2.8584, Perplexity: 17.43\n",
      "Epoch [4/5], Step[600/1549], Loss: 3.3633, Perplexity: 28.89\n",
      "Epoch [4/5], Step[700/1549], Loss: 3.2972, Perplexity: 27.04\n",
      "Epoch [4/5], Step[800/1549], Loss: 3.3455, Perplexity: 28.38\n",
      "Epoch [4/5], Step[900/1549], Loss: 3.0215, Perplexity: 20.52\n",
      "Epoch [4/5], Step[1000/1549], Loss: 3.1447, Perplexity: 23.21\n",
      "Epoch [4/5], Step[1100/1549], Loss: 3.2442, Perplexity: 25.64\n",
      "Epoch [4/5], Step[1200/1549], Loss: 3.4078, Perplexity: 30.20\n",
      "Epoch [4/5], Step[1300/1549], Loss: 3.0584, Perplexity: 21.29\n",
      "Epoch [4/5], Step[1400/1549], Loss: 2.7264, Perplexity: 15.28\n",
      "Epoch [4/5], Step[1500/1549], Loss: 3.1171, Perplexity: 22.58\n",
      "Epoch [5/5], Step[0/1549], Loss: 3.7689, Perplexity: 43.33\n",
      "Epoch [5/5], Step[100/1549], Loss: 2.9883, Perplexity: 19.85\n",
      "Epoch [5/5], Step[200/1549], Loss: 3.1033, Perplexity: 22.27\n",
      "Epoch [5/5], Step[300/1549], Loss: 3.0176, Perplexity: 20.44\n",
      "Epoch [5/5], Step[400/1549], Loss: 2.9733, Perplexity: 19.56\n",
      "Epoch [5/5], Step[500/1549], Loss: 2.5650, Perplexity: 13.00\n",
      "Epoch [5/5], Step[600/1549], Loss: 3.0660, Perplexity: 21.46\n",
      "Epoch [5/5], Step[700/1549], Loss: 2.9710, Perplexity: 19.51\n",
      "Epoch [5/5], Step[800/1549], Loss: 3.0525, Perplexity: 21.17\n",
      "Epoch [5/5], Step[900/1549], Loss: 2.7786, Perplexity: 16.10\n",
      "Epoch [5/5], Step[1000/1549], Loss: 2.8310, Perplexity: 16.96\n",
      "Epoch [5/5], Step[1100/1549], Loss: 2.9189, Perplexity: 18.52\n",
      "Epoch [5/5], Step[1200/1549], Loss: 3.0656, Perplexity: 21.45\n",
      "Epoch [5/5], Step[1300/1549], Loss: 2.7412, Perplexity: 15.51\n",
      "Epoch [5/5], Step[1400/1549], Loss: 2.3478, Perplexity: 10.46\n",
      "Epoch [5/5], Step[1500/1549], Loss: 2.7611, Perplexity: 15.82\n"
     ]
    }
   ],
   "source": [
    "# Train the model\n",
    "for epoch in range(num_epochs):\n",
    "    # Set initial hidden and cell states\n",
    "    states = (torch.zeros(num_layers, batch_size, hidden_size).to(device),\n",
    "              torch.zeros(num_layers, batch_size, hidden_size).to(device))\n",
    "    \n",
    "    for i in range(0, ids.size(1) - seq_length, seq_length):\n",
    "        # Get mini-batch inputs and targets\n",
    "        inputs = ids[:, i:i+seq_length].to(device)\n",
    "        targets = ids[:, (i+1):(i+1)+seq_length].to(device)\n",
    "        \n",
    "        # Forward pass\n",
    "        states = detach(states)\n",
    "        outputs, states = model(inputs, states)\n",
    "        loss = criterion(outputs, targets.reshape(-1))\n",
    "        \n",
    "        # Backward and optimize\n",
    "        model.zero_grad()\n",
    "        loss.backward()\n",
    "        clip_grad_norm(model.parameters(), 0.5)\n",
    "        optimizer.step()\n",
    "\n",
    "        step = (i+1) // seq_length\n",
    "        if step % 100 == 0:\n",
    "            print ('Epoch [{}/{}], Step[{}/{}], Loss: {:.4f}, Perplexity: {:5.2f}'\n",
    "                   .format(epoch+1, num_epochs, step, num_batches, loss.item(), np.exp(loss.item())))"
   ]
  },
  {
   "cell_type": "code",
   "execution_count": 7,
   "metadata": {},
   "outputs": [
    {
     "name": "stdout",
     "output_type": "stream",
     "text": [
      "Sampled [100/1000] words and save to sample.txt\n",
      "Sampled [200/1000] words and save to sample.txt\n",
      "Sampled [300/1000] words and save to sample.txt\n",
      "Sampled [400/1000] words and save to sample.txt\n",
      "Sampled [500/1000] words and save to sample.txt\n",
      "Sampled [600/1000] words and save to sample.txt\n",
      "Sampled [700/1000] words and save to sample.txt\n",
      "Sampled [800/1000] words and save to sample.txt\n",
      "Sampled [900/1000] words and save to sample.txt\n",
      "Sampled [1000/1000] words and save to sample.txt\n"
     ]
    }
   ],
   "source": [
    "# Test the model\n",
    "with torch.no_grad():\n",
    "    with open('sample.txt', 'w') as f:\n",
    "        # Set intial hidden ane cell states\n",
    "        state = (torch.zeros(num_layers, 1, hidden_size).to(device),\n",
    "                 torch.zeros(num_layers, 1, hidden_size).to(device))\n",
    "\n",
    "        # Select one word id randomly\n",
    "        prob = torch.ones(vocab_size)\n",
    "        input = torch.multinomial(prob, num_samples=1).unsqueeze(1).to(device)\n",
    "\n",
    "        for i in range(num_samples):\n",
    "            # Forward propagate RNN \n",
    "            output, state = model(input, state)\n",
    "\n",
    "            # Sample a word id\n",
    "            prob = output.exp()\n",
    "            word_id = torch.multinomial(prob, num_samples=1).item()\n",
    "\n",
    "            # Fill input with sampled word id for the next time step\n",
    "            input.fill_(word_id)\n",
    "\n",
    "            # File write\n",
    "            word = corpus.dictionary.idx2word[word_id]\n",
    "            word = '\\n' if word == '<eos>' else word + ' '\n",
    "            f.write(word)\n",
    "\n",
    "            if (i+1) % 100 == 0:\n",
    "                print('Sampled [{}/{}] words and save to {}'.format(i+1, num_samples, 'sample.txt'))"
   ]
  },
  {
   "cell_type": "code",
   "execution_count": 8,
   "metadata": {},
   "outputs": [],
   "source": [
    "# Save the model checkpoints\n",
    "torch.save(model.state_dict(), 'model.ckpt')"
   ]
  },
  {
   "cell_type": "code",
   "execution_count": null,
   "metadata": {},
   "outputs": [],
   "source": []
  }
 ],
 "metadata": {
  "kernelspec": {
   "display_name": "Python 3",
   "language": "python",
   "name": "python3"
  },
  "language_info": {
   "codemirror_mode": {
    "name": "ipython",
    "version": 3
   },
   "file_extension": ".py",
   "mimetype": "text/x-python",
   "name": "python",
   "nbconvert_exporter": "python",
   "pygments_lexer": "ipython3",
   "version": "3.5.2"
  }
 },
 "nbformat": 4,
 "nbformat_minor": 2
}
